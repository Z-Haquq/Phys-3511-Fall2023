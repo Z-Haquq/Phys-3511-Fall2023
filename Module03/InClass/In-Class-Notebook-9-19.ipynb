{
 "cells": [
  {
   "cell_type": "markdown",
   "id": "237d3de1",
   "metadata": {},
   "source": [
    "# Eigenvalues and Eigenvectors"
   ]
  },
  {
   "cell_type": "code",
   "execution_count": 1,
   "id": "07483e17",
   "metadata": {},
   "outputs": [],
   "source": [
    "import numpy as np\n",
    "import matplotlib.pyplot as plt\n",
    "%matplotlib notebook"
   ]
  },
  {
   "cell_type": "markdown",
   "id": "a7c18e77",
   "metadata": {},
   "source": [
    "\n",
    "$$\\vec{A} = \n",
    "\\begin{pmatrix}\n",
    " 11 &  -1 & 0\\\\\n",
    "-1 &  12 & -1\\\\\n",
    " 0 &  -1 & 11\n",
    "\\end{pmatrix}\n",
    "$$\n",
    "\n",
    "Find the eigenvalues and eigenvectors for the equation:\n",
    "\n",
    "$$(\\vec{A} - \\lambda\\vec{I})\\vec{v} = 0,$$\n",
    "where $\\vec{v}$ are the eigenvectors and $\\lambda$ is the eigenvalues"
   ]
  },
  {
   "cell_type": "code",
   "execution_count": 1,
   "id": "2b05781c",
   "metadata": {},
   "outputs": [],
   "source": [
    "\"\"\"Part One\"\"\"\n",
    "A = np.array([[11,-1,0], [-1,12,-1], [0,-1,11] ])\n",
    "print(A)\n"
   ]
  },
  {
   "cell_type": "code",
   "execution_count": 2,
   "id": "c9094862",
   "metadata": {},
   "outputs": [],
   "source": [
    "\"\"\"Part Two\"\"\"\n",
    "\n",
    "w,v = np.linalg.eig(A)\n",
    "print(\"The eigenvector defining this matrix is\", w)\n",
    "print(\"The eigenvalues of this matrix is\", v) "
   ]
  }
 ],
 "metadata": {
  "kernelspec": {
   "display_name": "Python 3 (ipykernel)",
   "language": "python",
   "name": "python3"
  },
  "language_info": {
   "codemirror_mode": {
    "name": "ipython",
    "version": 3
   },
   "file_extension": ".py",
   "mimetype": "text/x-python",
   "name": "python",
   "nbconvert_exporter": "python",
   "pygments_lexer": "ipython3",
   "version": "3.11.4"
  }
 },
 "nbformat": 4,
 "nbformat_minor": 5
}
