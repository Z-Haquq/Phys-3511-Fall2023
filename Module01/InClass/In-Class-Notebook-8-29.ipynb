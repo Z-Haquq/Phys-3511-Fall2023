{
 "cells": [
  {
   "cell_type": "markdown",
   "id": "14d461ca",
   "metadata": {},
   "source": [
    "# In-Class Notebook: Python Review\n",
    "Complete notebook in class and upload to your github repository."
   ]
  },
  {
   "cell_type": "markdown",
   "id": "18093846",
   "metadata": {},
   "source": [
    " 1. Write a code that concatenates the two lists below index-wise. Create a new list that contains as it 0th index the concatenation of list1 and list2's 0th index, its 1st index as the concatenation of list1 and list2's 1st index and so on. \n",
    " \n",
    " Expected output:\n",
    " > ['who', 'Ya', 'gonna', 'call']"
   ]
  },
  {
   "cell_type": "code",
   "execution_count": 3,
   "id": "40da6c70",
   "metadata": {},
   "outputs": [],
   "source": [
    "list1 = ['wh','Y','gon','ca']\n",
    "list2 = ['o','a','na','ll']\n",
    "#solution\n",
    "\n",
    "\"\"\" Question 1 \"\"\"\n",
    "\n",
    "def listcombiner(entry1, entry2):\n",
    "    word = \"\"\n",
    "    ourarray = []\n",
    "    for i in range (len(entry1)):\n",
    "        word = entry1[i]+entry2[i]\n",
    "        ourarray.append(word)\n",
    "    return ourarray\n",
    "\n"
   ]
  },
  {
   "cell_type": "markdown",
   "id": "cde39cf8",
   "metadata": {},
   "source": [
    "2. Write a program to iterate the first 10 numbers (0 to 9) and in each iteration, print the sum of the current and previous number.\n",
    "\n",
    "Expected output:\n",
    "> printing current and previous number sum in a range(10)\\\n",
    "> current number: 0 previous number: 0 sum: 0\\\n",
    "> current number: 1 previous number: 0 sum: 1\\\n",
    "> current number: 2 previous number: 1 sum: 3\\\n",
    "> current number: 3 previous number: 2 sum: 5\\\n",
    "> current number: 4 previous number: 3 sum: 7\\\n",
    "> current number: 5 previous number: 4 sum: 9\\\n",
    "> current number: 6 previous number: 5 sum: 11\\\n",
    "> current number: 7 previous number: 6 sum: 13\\\n",
    "> current number: 8 previous number: 7 sum: 15\\\n",
    "> current number: 9 previous number: 8 sum: 17"
   ]
  },
  {
   "cell_type": "code",
   "execution_count": 4,
   "id": "0ff36244",
   "metadata": {},
   "outputs": [],
   "source": [
    "#solution\n",
    "def numberiterator(entry):\n",
    "    for i in range (len(entry)):\n",
    "        if(entry[i] == 0):\n",
    "           print(\"current number:\", entry[i], \"previous number:\", entry[i], \"sum:\", entry[i] + entry[i])\n",
    "        else:\n",
    "           print(\"current number:\", entry[i], \"previous number:\", entry[i-1], \"sum:\", entry[i] + entry[i - 1]) \n",
    "    return\n"
   ]
  },
  {
   "cell_type": "markdown",
   "id": "8fe6e441",
   "metadata": {},
   "source": [
    " 3. Define a function called **is_odd** that takes an integer as its argument and tells the user if it is even, odd, or zero.\n",
    " \n",
    " Expected Output:\n",
    "> is_odd(1) \n",
    ">> Odd\n",
    "\n",
    "> is_odd(2)\n",
    ">> Even\n",
    "\n",
    "> is_odd(4)\n",
    ">> Even\n",
    "\n",
    "> is_odd(7)\n",
    ">> Odd\n",
    "\n",
    "> is_odd(0)\n",
    ">> integer is zero"
   ]
  },
  {
   "cell_type": "code",
   "execution_count": 18,
   "id": "2ab8aaa5",
   "metadata": {},
   "outputs": [],
   "source": [
    "#solution\n",
    "\n",
    "\"\"\" Question 3 \"\"\"\n",
    "\n",
    "def isOdd(number):\n",
    "    if number % 2 == 1:\n",
    "        print(number, \"is odd\")\n",
    "    elif number == 0:\n",
    "        print(number, \"is neither odd or even\")\n",
    "    else:\n",
    "        print(number, \"is even\")\n",
    "    return\n",
    "        "
   ]
  },
  {
   "cell_type": "markdown",
   "id": "bd3e504a",
   "metadata": {},
   "source": [
    "4. Unpack the tuple tuple1.\n",
    "Expected output:\n",
    "> tuple1 = (0, 5, 10, 15)\\\n",
    "> #Your code\\\n",
    "> print(a) #should print 0\\\n",
    "> print(b) #should print 5\\\n",
    "> print(c) #should print 10\\\n",
    "> print(d) #should print 15"
   ]
  },
  {
   "cell_type": "code",
   "execution_count": 5,
   "id": "c5da6573",
   "metadata": {},
   "outputs": [],
   "source": [
    "tuple1 = (0, 5, 10, 15)\n",
    "\n",
    "def tuple(letter, entry):\n",
    "    if letter == 'a':\n",
    "        print(entry[1])\n",
    "    elif letter == 'b':\n",
    "        print(entry[2])\n",
    "    elif letter == 'c':\n",
    "        print(entry[3])\n",
    "    elif letter == 'd':\n",
    "        print(entry[4])\n",
    "    return\n",
    "\n",
    "#solution\n"
   ]
  }
 ],
 "metadata": {
  "kernelspec": {
   "display_name": "Python 3 (ipykernel)",
   "language": "python",
   "name": "python3"
  },
  "language_info": {
   "codemirror_mode": {
    "name": "ipython",
    "version": 3
   },
   "file_extension": ".py",
   "mimetype": "text/x-python",
   "name": "python",
   "nbconvert_exporter": "python",
   "pygments_lexer": "ipython3",
   "version": "3.11.4"
  }
 },
 "nbformat": 4,
 "nbformat_minor": 5
}
